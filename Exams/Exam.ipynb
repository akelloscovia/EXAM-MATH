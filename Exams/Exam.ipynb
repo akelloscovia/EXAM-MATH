{
 "cells": [
  {
   "cell_type": "code",
   "execution_count": null,
   "id": "9405c84f-6593-4d11-8c2d-5b3d811644c1",
   "metadata": {},
   "outputs": [],
   "source": [
    "# Number five"
   ]
  },
  {
   "cell_type": "code",
   "execution_count": 25,
   "id": "c6edf1cb-f8cd-47a2-9cc4-688c79c99881",
   "metadata": {},
   "outputs": [],
   "source": [
    "import numpy as np"
   ]
  },
  {
   "cell_type": "code",
   "execution_count": 20,
   "id": "80132f5d-88f7-4707-9215-c18c17bd16f9",
   "metadata": {},
   "outputs": [
    {
     "name": "stdout",
     "output_type": "stream",
     "text": [
      "[[1.  0.2 0.5]\n",
      " [0.2 1.  0.8]\n",
      " [0.5 0.8 1. ]]\n"
     ]
    }
   ],
   "source": [
    "MatrixA=np.array([[1, 0.2, 0.5,], [0.2, 1, 0.8,], [0.5, 0.8, 1]])\n",
    "print (MatrixA)"
   ]
  },
  {
   "cell_type": "code",
   "execution_count": 4,
   "id": "48bc958b-fabb-49a2-a430-9db5a55680f2",
   "metadata": {},
   "outputs": [],
   "source": [
    "# (i)"
   ]
  },
  {
   "cell_type": "code",
   "execution_count": 5,
   "id": "8be23e0a-249b-4955-a8b7-7490b0368705",
   "metadata": {},
   "outputs": [],
   "source": [
    "# Transpose"
   ]
  },
  {
   "cell_type": "code",
   "execution_count": 7,
   "id": "a881db94-46c4-4223-8009-a59cb8b01894",
   "metadata": {},
   "outputs": [
    {
     "data": {
      "text/plain": [
       "array([[1. , 0.2, 0.5],\n",
       "       [0.2, 1. , 0.8],\n",
       "       [0.5, 0.8, 1. ]])"
      ]
     },
     "execution_count": 7,
     "metadata": {},
     "output_type": "execute_result"
    }
   ],
   "source": [
    "MatrixA=np.array([[1, 0.2, 0.5,], [0.2, 1, 0.8,], [0.5, 0.8, 1]])\n",
    "MatrixA.T"
   ]
  },
  {
   "cell_type": "code",
   "execution_count": null,
   "id": "ed0d8533-08bf-479a-9ce4-f7d88379a051",
   "metadata": {},
   "outputs": [],
   "source": [
    "# Determinant"
   ]
  },
  {
   "cell_type": "code",
   "execution_count": 8,
   "id": "bf0590c2-88d4-4e93-9bb6-64cc999ea3d7",
   "metadata": {},
   "outputs": [
    {
     "name": "stdout",
     "output_type": "stream",
     "text": [
      "0.2299999999999999\n"
     ]
    }
   ],
   "source": [
    "MatrixA=np.array([[1, 0.2, 0.5,], [0.2, 1, 0.8,], [0.5, 0.8, 1]])\n",
    "determinant=np.linalg.det(MatrixA)\n",
    "print (determinant)"
   ]
  },
  {
   "cell_type": "code",
   "execution_count": null,
   "id": "fd239820-9e60-4e17-9070-fefde8ef3adb",
   "metadata": {},
   "outputs": [],
   "source": [
    "# Decomposing"
   ]
  },
  {
   "cell_type": "code",
   "execution_count": 70,
   "id": "ca626377-081c-44a5-8a0e-dcddb2f34ee7",
   "metadata": {},
   "outputs": [
    {
     "name": "stdout",
     "output_type": "stream",
     "text": [
      "[[1.  0.2 0.5]\n",
      " [0.2 1.  0.8]\n",
      " [0.5 0.8 1. ]]\n"
     ]
    }
   ],
   "source": [
    "MatrixA=np.array([[1, 0.2, 0.5,], [0.2, 1, 0.8,], [0.5, 0.8, 1]])\n",
    "decomposing=np.linalg.eig(MatrixA)\n",
    "print (MatrixA)"
   ]
  },
  {
   "cell_type": "code",
   "execution_count": null,
   "id": "23a77eac-a8b2-4012-83d3-71eaf8bfecc9",
   "metadata": {},
   "outputs": [],
   "source": [
    "#Question six"
   ]
  },
  {
   "cell_type": "code",
   "execution_count": 26,
   "id": "62720fbf-027d-4509-97cc-8c3f01944296",
   "metadata": {},
   "outputs": [],
   "source": [
    "import seaborn as sns"
   ]
  },
  {
   "cell_type": "code",
   "execution_count": 27,
   "id": "ba1a5c6b-93f5-4eba-a9b6-963fcd6e2b9b",
   "metadata": {},
   "outputs": [],
   "source": [
    "import matplotlib.pyplot as plt"
   ]
  },
  {
   "cell_type": "code",
   "execution_count": 29,
   "id": "1a7dc3d0-8c92-42dc-ba4d-24701e588c68",
   "metadata": {},
   "outputs": [],
   "source": [
    "import numpy as np"
   ]
  },
  {
   "cell_type": "code",
   "execution_count": 34,
   "id": "b9651c3f-77b1-4c7e-8050-88c5289292e6",
   "metadata": {},
   "outputs": [],
   "source": [
    "from numpy import random"
   ]
  },
  {
   "cell_type": "code",
   "execution_count": null,
   "id": "721cd758-a9ab-4816-b36b-0cff6e5589d6",
   "metadata": {},
   "outputs": [],
   "source": [
    "# (i)"
   ]
  },
  {
   "cell_type": "code",
   "execution_count": 37,
   "id": "8bc8af78-24a3-4fbd-b14e-b14a3a04edbe",
   "metadata": {},
   "outputs": [
    {
     "name": "stdout",
     "output_type": "stream",
     "text": [
      "[0 0 1 2 0 1 1 2 0 0 1 3 0 0 2 0 1 2 1 1 3 1 0 2 1 0 0 0 0 1 0 0 0 1 0 2 1\n",
      " 0 1 0 2 1 3 0 0 1 2 2 1 0 2 2 1 1 2 0 0 1 2 1 1 0 2 0 1 4 0 3 1 1 1 0 1 2\n",
      " 3 2 0 2 1 3 1 0 0 2 1 0 1 0 1 0 0 1 1 1 2 0 0 0 3 1 2 1 0 1 1 0 1 1 0 1 1\n",
      " 1 1 1 0 4 0 2 1 1 2 0 1 5 2 1 0 0 1 0 3 0 0 0 1 1 1 1 2 3 0 0 1 0 0 1 1 0\n",
      " 0 2 1 3 0 2 3 0 3 2 1 2 2 3 0 2 0 1 1 1 0 1 0 1 0 0 4 0 1 1 2 3 0 2 0 2 1\n",
      " 2 0 0 0 0 2 1 1 0 0 0 0 0 1 0 0 0 1 2 1 3 1 0 0 5 0 3 0 0 0 2 0 2 2 1 0 1\n",
      " 1 1 1 2 0 1 0 1 0 0 1 4 0 2 0 0 0 1 3 0 0 0 1 2 1 2 2 2 1 1 3 2 1 0 0 2 0\n",
      " 1 0 0 1 3 0 0 2 0 0 0 1 3 0 0 1 2 1 3 0 0 0 2 0 0 0 1 0 3 0 1 3 2 1 0 2 0\n",
      " 3 2 5 1 2 1 2 2 2 0 0 0 0 1 1 3 1 1 3 1 1 1 1 1 1 0 2 1 2 0 0 0 1 0 1 0 4\n",
      " 0 0 2 1 2 1 1 3 0 0 1 1 0 2 0 0 0 0 0 0 1 0 1 2 0 1 0 0 1 2 1 0 1 2 3 1 0\n",
      " 0 0 0 2 1 0 1 0 2 2 2 1 2 1 1 1 0 1 2 0 1 3 0 0 0 0 0 0 2 1 2 1 1 0 0 0 0\n",
      " 1 1 2 2 1 0 0 2 0 1 0 1 1 0 2 0 0 0 1 0 0 0 1 1 1 2 0 3 1 4 2 1 0 0 0 0 1\n",
      " 0 0 2 0 3 0 0 0 1 3 1 3 0 0 0 0 3 0 4 0 2 3 1 1 2 0 0 1 0 2 2 1 3 0 1 0 2\n",
      " 3 2 3 0 2 2 2 2 0 0 0 2 2 0 1 0 2 1 1 1 0 0 1 2 1 1 0 0 1 0 1 0 0 0 0 1 1\n",
      " 1 0 2 0 1 3 0 1 0 1 1 3 0 0 1 0 0 0 0 2 1 1 1 1 1 2 1 2 1 1 4 0 3 3 2 2 2\n",
      " 0 3 2 1 1 0 0 1 2 0 3 0 2 1 2 1 0 1 1 2 3 0 4 0 1 2 2 0 1 0 1 0 2 1 1 0 0\n",
      " 2 3 0 2 0 2 1 0 0 1 0 1 2 0 2 0 1 0 0 2 1 1 3 0 1 1 1 3 1 3 0 1 0 0 2 0 0\n",
      " 3 1 1 0 0 0 2 1 1 2 0 2 0 0 0 0 1 1 0 2 1 1 1 2 2 0 0 1 1 0 1 1 1 1 0 4 0\n",
      " 2 1 0 1 1 2 2 3 0 1 0 1 1 1 0 0 1 1 3 1 0 0 0 1 0 0 2 0 1 3 1 0 1 1 0 0 0\n",
      " 0 1 1 0 1 2 1 0 1 2 1 0 1 1 2 1 0 3 3 0 1 3 2 0 0 1 0 3 2 0 0 1 1 1 1 2 1\n",
      " 3 1 0 1 1 1 0 1 0 1 3 0 0 1 1 2 0 2 2 1 2 0 0 0 1 0 0 3 0 1 1 1 0 0 2 2 1\n",
      " 3 1 0 0 2 2 2 0 2 1 0 0 0 1 0 1 0 2 0 1 1 1 0 3 1 0 2 1 0 1 2 0 3 0 0 2 1\n",
      " 2 0 1 1 1 2 1 2 3 3 1 1 0 0 0 1 0 1 0 0 1 1 2 1 5 1 0 2 1 0 0 2 1 1 1 0 1\n",
      " 1 3 1 1 0 0 2 1 3 3 2 2 1 1 2 2 1 0 1 0 0 3 1 0 0 0 3 3 1 0 0 0 0 0 1 2 1\n",
      " 1 0 0 1 2 1 1 1 1 0 0 2 1 2 2 0 1 1 0 2 0 0 0 0 3 0 1 0 0 0 0 1 1 3 0 0 0\n",
      " 2 1 3 0 3 1 2 0 0 0 3 2 2 1 0 1 1 1 2 0 1 2 0 1 2 1 1 0 0 1 2 1 0 0 2 3 2\n",
      " 1 0 1 2 3 1 2 0 0 0 1 0 0 2 1 0 2 0 0 0 2 0 0 2 1 0 2 1 2 0 0 1 0 0 0 3 0\n",
      " 1]\n"
     ]
    }
   ],
   "source": [
    "PD=np.random.poisson (size=(1000))  \n",
    "print (PD)       \n",
    "            "
   ]
  },
  {
   "cell_type": "code",
   "execution_count": null,
   "id": "6dec3ba2-007a-4e14-94e0-e8ce74c22dc2",
   "metadata": {},
   "outputs": [],
   "source": [
    "# (ii)"
   ]
  },
  {
   "cell_type": "code",
   "execution_count": 73,
   "id": "b2998042-936f-4221-a0bb-8152dd6c727b",
   "metadata": {},
   "outputs": [
    {
     "name": "stdout",
     "output_type": "stream",
     "text": [
      "[0 0 0 0 1 0 2 1 2 1 1 0 3 1 1 1 0 0 1 0 1 0 0 1 2 0 0 1 0 0 1 1 1 1 0 0 2\n",
      " 1 0 3 1 0 1 4 1 3 3 1 1 2 2 1 0 2 1 0 1 3 0 0 0 1 3 2 2 0 1 2 3 1 2 2 3 0\n",
      " 0 1 1 1 0 1 0 0 2 0 1 1 0 3 0 0 1 1 0 2 1 2 2 1 2 2 2 0 0 2 1 2 1 1 2 2 1\n",
      " 2 1 1 1 0 0 2 1 1 2 2 1 0 1 1 0 0 3 1 2 1 0 0 0 1 0 1 0 2 1 1 2 0 0 0 1 3\n",
      " 0 1 0 0 0 3 2 0 1 2 0 0 0 3 1 2 1 1 0 2 0 0 1 0 2 0 0 0 2 1 3 0 1 0 0 1 0\n",
      " 1 0 0 0 0 2 2 1 3 2 0 0 0 1 0 1 2 2 0 1 2 1 1 0 0 2 0 1 5 1 1 1 2 1 1 0 0\n",
      " 0 0 2 1 1 0 0 0 1 1 0 2 3 2 0 0 1 4 2 1 1 0 1 1 1 0 1 2 0 2 1 0 0 0 0 0 3\n",
      " 1 0 3 0 1 2 3 1 4 1 1 1 1 0 1 0 2 2 0 3 0 4 2 2 0 1 0 0 1 2 1 2 2 1 1 2 1\n",
      " 0 0 2 0 2 0 3 1 1 2 1 2 1 1 1 2 0 0 0 2 1 1 1 1 0 0 1 0 2 2 0 0 3 0 2 3 2\n",
      " 0 0 1 2 2 2 0 2 0 1 0 1 1 1 1 1 1 1 2 0 0 3 0 2 0 2 1 0 0 0 0 0 3 1 1 0 0\n",
      " 0 4 1 1 2 0 1 0 1 3 1 3 3 1 2 1 0 1 1 2 0 2 0 2 1 1 1 1 1 0 2 1 1 1 1 1 0\n",
      " 1 2 1 3 1 2 1 1 0 0 2 1 0 1 1 0 0 1 1 1 0 1 0 1 0 2 1 1 3 1 0 2 1 1 1 3 0\n",
      " 1 2 0 1 1 0 1 2 1 2 4 4 0 0 0 1 0 1 0 1 4 1 0 1 1 0 2 0 0 1 1 1 0 1 1 2 2\n",
      " 1 0 1 3 3 1 0 1 0 2 1 1 1 0 0 0 1 0 0 3 3 0 1 1 2 0 1 1 3 1 0 0 1 1 1 2 3\n",
      " 1 1 0 4 2 1 1 0 1 2 1 0 1 0 0 1 0 0 1 1 0 1 2 0 1 4 2 1 2 1 1 1 1 1 0 1 1\n",
      " 2 1 0 1 2 1 2 2 0 2 1 1 2 1 1 0 1 4 1 1 2 2 0 3 1 1 2 5 1 1 2 0 0 0 1 1 1\n",
      " 2 0 0 0 0 0 0 1 1 1 0 1 1 0 1 1 2 0 0 1 0 0 2 2 0 2 0 0 0 1 2 0 1 1 0 0 1\n",
      " 1 1 0 1 1 2 1 2 1 0 0 0 1 3 0 1 1 1 4 1 1 1 1 1 1 0 0 0 3 1 0 0 0 1 2 1 2\n",
      " 1 1 0 2 0 0 3 0 1 0 1 1 2 5 0 0 1 1 1 0 0 0 0 2 0 2 0 0 0 0 0 1 0 2 0 1 0\n",
      " 2 0 0 0 1 0 0 1 3 2 0 1 0 0 0 1 1 1 0 1 0 0 2 2 2 1 1 1 0 0 2 1 2 3 0 0 0\n",
      " 0 0 0 2 0 1 1 3 2 0 1 0 0 0 2 1 1 2 0 1 1 2 0 2 2 1 1 0 2 1 1 1 0 1 2 3 3\n",
      " 4 1 0 1 0 1 0 2 0 0 0 0 0 0 1 2 0 4 3 3 0 1 2 2 0 1 1 0 0 1 2 0 1 2 1 1 2\n",
      " 0 0 1 0 1 2 3 2 3 2 1 0 1 0 2 0 3 2 0 0 1 2 4 1 0 2 1 0 1 1 0 0 3 1 2 0 3\n",
      " 1 0 0 1 1 1 1 1 1 0 2 2 0 1 1 0 1 2 2 4 1 0 0 0 1 1 1 1 0 1 0 2 1 1 1 0 0\n",
      " 2 3 2 0 3 1 0 1 0 1 1 0 0 0 0 3 3 1 1 0 0 1 0 2 0 0 1 1 1 0 2 1 1 1 0 1 0\n",
      " 3 2 0 2 1 1 1 2 0 0 1 1 5 0 1 2 0 1 2 1 1 0 0 0 1 1 1 0 3 1 1 0 1 1 2 0 3\n",
      " 0 2 1 1 0 0 2 2 1 0 0 0 1 2 1 1 0 0 1 4 2 1 1 3 0 0 0 1 1 0 0 0 1 1 1 0 0\n",
      " 0]\n"
     ]
    }
   ],
   "source": [
    "PD=np.random.poisson (size=(1000)) \n",
    "mean=np.mean\n",
    "print (PD)"
   ]
  },
  {
   "cell_type": "code",
   "execution_count": null,
   "id": "79b19c72-3e81-4730-a048-57f4a5fd4660",
   "metadata": {},
   "outputs": [],
   "source": [
    "# variance"
   ]
  },
  {
   "cell_type": "code",
   "execution_count": 74,
   "id": "92084718-51a5-49ca-b45d-8c1d249714b5",
   "metadata": {},
   "outputs": [
    {
     "name": "stdout",
     "output_type": "stream",
     "text": [
      "[1 0 2 1 0 0 1 0 1 0 3 2 1 1 1 0 2 0 0 1 0 0 0 4 0 1 0 4 1 1 2 2 1 1 1 1 1\n",
      " 0 0 1 0 3 2 1 1 0 0 1 0 1 0 2 2 0 2 2 0 1 1 1 3 2 1 0 1 2 3 1 0 1 2 2 0 1\n",
      " 0 2 1 0 2 0 1 0 1 0 1 1 1 0 3 3 1 1 0 1 0 0 0 1 1 2 1 0 0 0 0 0 0 2 0 0 0\n",
      " 2 1 1 0 3 0 3 3 2 1 0 0 3 1 0 1 3 1 0 0 1 0 1 1 1 1 3 2 0 0 0 0 1 1 0 0 0\n",
      " 0 2 0 1 1 1 0 0 0 3 1 0 0 0 1 2 2 2 1 0 1 1 0 3 1 0 1 2 3 0 4 2 1 0 2 1 2\n",
      " 0 2 1 0 1 0 0 0 1 2 0 2 3 1 0 0 0 0 0 0 2 2 0 1 0 0 2 1 2 1 1 0 0 0 4 2 1\n",
      " 2 0 1 2 0 0 0 2 1 0 0 0 0 2 0 1 2 2 1 2 0 2 0 0 1 0 3 1 4 1 1 1 0 0 2 1 3\n",
      " 1 1 2 0 1 0 0 1 2 1 1 2 0 1 1 0 1 1 1 0 1 4 1 0 4 1 4 1 2 1 3 0 0 1 1 1 0\n",
      " 4 1 1 0 0 2 1 2 2 1 3 2 1 2 0 1 0 2 1 0 0 4 1 1 0 2 1 1 1 0 0 2 1 1 1 0 0\n",
      " 2 2 2 0 0 0 0 0 1 0 0 1 1 3 0 2 0 0 2 2 2 2 0 0 2 2 3 0 2 0 0 2 5 1 2 1 0\n",
      " 2 2 1 1 1 2 3 0 1 0 0 1 3 0 1 2 2 1 0 0 3 0 0 1 1 2 0 0 0 1 0 2 1 0 1 1 3\n",
      " 1 1 3 0 1 0 0 0 1 1 4 1 0 0 2 0 1 1 1 2 1 1 1 1 1 1 0 0 1 2 0 0 0 3 1 0 1\n",
      " 1 0 1 1 2 0 1 0 3 0 0 2 2 0 1 0 2 1 1 2 2 1 0 1 2 0 0 2 1 2 0 1 1 1 0 2 2\n",
      " 3 0 2 0 2 2 0 1 0 1 0 3 2 1 0 0 0 2 0 1 0 2 0 0 2 1 2 0 2 0 1 1 1 0 2 2 1\n",
      " 0 0 0 0 2 3 0 0 0 1 0 0 1 1 3 3 0 1 1 2 4 1 1 1 2 0 0 1 0 0 0 1 1 0 0 0 2\n",
      " 0 1 0 3 0 0 0 1 1 4 1 2 1 0 2 1 1 2 2 5 0 0 2 4 0 0 0 1 0 0 1 1 1 1 0 1 1\n",
      " 0 0 0 1 1 0 2 0 1 0 3 1 0 2 1 0 0 0 2 0 1 0 0 1 0 0 2 0 1 0 1 2 0 0 1 2 2\n",
      " 0 0 1 0 0 0 0 1 1 0 1 1 5 0 1 1 0 0 0 0 1 1 2 0 0 2 0 2 1 0 4 1 0 0 0 1 0\n",
      " 0 0 2 0 2 1 0 2 1 0 2 1 2 0 0 3 1 0 3 1 1 0 0 1 1 1 3 5 0 0 2 0 0 2 1 2 1\n",
      " 2 1 1 0 1 0 1 4 1 0 0 2 1 0 2 0 0 4 1 1 3 2 1 3 1 1 1 0 2 0 1 2 0 1 2 1 4\n",
      " 2 1 0 1 0 0 0 2 2 2 0 1 1 1 2 2 0 0 0 1 0 3 2 1 0 1 0 1 1 3 1 0 2 0 2 1 1\n",
      " 0 3 2 2 2 1 3 1 0 2 0 3 1 2 3 0 3 1 2 1 1 1 1 0 0 1 2 0 0 2 0 2 1 1 3 0 1\n",
      " 0 3 1 3 0 1 3 2 1 2 0 1 0 2 2 0 3 0 1 1 2 2 1 2 0 1 1 1 2 0 2 1 1 1 1 3 3\n",
      " 1 2 0 0 4 0 0 1 0 2 0 0 3 0 2 0 1 1 1 2 1 1 1 2 1 1 1 0 1 1 2 1 0 1 0 1 1\n",
      " 2 0 1 0 0 1 2 1 1 0 1 1 2 0 0 1 1 2 2 0 2 1 0 4 0 1 1 0 1 0 0 0 1 0 0 1 1\n",
      " 0 1 0 0 0 3 1 0 0 4 0 0 1 3 3 0 1 1 2 1 0 1 1 0 1 0 0 0 0 0 0 0 0 4 0 2 0\n",
      " 1 0 0 1 1 0 0 1 1 1 2 2 0 1 1 1 1 2 0 1 1 2 0 5 1 0 0 0 2 0 1 0 3 1 2 0 2\n",
      " 0]\n"
     ]
    }
   ],
   "source": [
    "PD=np.random.poisson (size=(1000))\n",
    "variance= np.var\n",
    "print (PD)"
   ]
  },
  {
   "cell_type": "code",
   "execution_count": 75,
   "id": "136a291e-5f6d-4da5-916e-af8bee039567",
   "metadata": {},
   "outputs": [
    {
     "data": {
      "text/plain": [
       "<function matplotlib.pyplot.show(*args, **kwargs) -> 'None'>"
      ]
     },
     "execution_count": 75,
     "metadata": {},
     "output_type": "execute_result"
    }
   ],
   "source": [
    "\n",
    "plt.show"
   ]
  },
  {
   "cell_type": "code",
   "execution_count": null,
   "id": "8854536a-e297-4858-b8b8-8f850de69b8d",
   "metadata": {},
   "outputs": [],
   "source": []
  }
 ],
 "metadata": {
  "kernelspec": {
   "display_name": "Python 3 (ipykernel)",
   "language": "python",
   "name": "python3"
  },
  "language_info": {
   "codemirror_mode": {
    "name": "ipython",
    "version": 3
   },
   "file_extension": ".py",
   "mimetype": "text/x-python",
   "name": "python",
   "nbconvert_exporter": "python",
   "pygments_lexer": "ipython3",
   "version": "3.12.7"
  }
 },
 "nbformat": 4,
 "nbformat_minor": 5
}
